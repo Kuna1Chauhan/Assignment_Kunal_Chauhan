{
  "nbformat": 4,
  "nbformat_minor": 0,
  "metadata": {
    "colab": {
      "provenance": []
    },
    "kernelspec": {
      "name": "python3",
      "display_name": "Python 3"
    },
    "language_info": {
      "name": "python"
    }
  },
  "cells": [
    {
      "cell_type": "code",
      "source": [
        "import pandas as pd\n",
        "import numpy as np\n",
        "from sklearn.model_selection import train_test_split\n",
        "from sklearn.linear_model import LinearRegression\n",
        "from sklearn.metrics import mean_squared_error, r2_score\n",
        "from sklearn.compose import ColumnTransformer\n",
        "from sklearn.feature_extraction.text import CountVectorizer\n",
        "from sklearn.preprocessing import OneHotEncoder\n",
        "\n",
        "# Load the dataset\n",
        "data = pd.read_csv(\"https://raw.githubusercontent.com/Kuna1Chauhan/EDA/main/instagram_reach.csv\")\n",
        "\n",
        "# Prepare the data\n",
        "X = data[['USERNAME', 'Caption', 'Hashtags', 'Followers']]\n",
        "y_likes = data['Likes']\n",
        "y_time_since_posted = data['Time since posted']\n",
        "\n",
        "# Replace missing values with empty strings\n",
        "X['Caption'].fillna('', inplace=True)\n",
        "X['Hashtags'].fillna('', inplace=True)\n",
        "\n",
        "# Encode categorical variables\n",
        "encoder = OneHotEncoder(sparse=False, handle_unknown='ignore')\n",
        "column_transformer = ColumnTransformer([('encoder', encoder, [0])], remainder='passthrough')\n",
        "X_encoded = column_transformer.fit_transform(X)\n",
        "feature_names = list(column_transformer.named_transformers_['encoder'].get_feature_names_out(['USERNAME'])) + ['Caption', 'Hashtags', 'Followers']\n",
        "X_encoded_df = pd.DataFrame(X_encoded, columns=feature_names)\n",
        "\n",
        "# Preprocess text columns (Caption and Hashtags)\n",
        "caption_vectorizer = CountVectorizer()\n",
        "hashtags_vectorizer = CountVectorizer()\n",
        "X_caption = caption_vectorizer.fit_transform(X['Caption'])\n",
        "X_hashtags = hashtags_vectorizer.fit_transform(X['Hashtags'])\n",
        "X_caption_df = pd.DataFrame(X_caption.toarray(), columns=caption_vectorizer.get_feature_names_out(['Caption']))\n",
        "X_hashtags_df = pd.DataFrame(X_hashtags.toarray(), columns=hashtags_vectorizer.get_feature_names_out(['Hashtags']))\n",
        "\n",
        "# Concatenate the encoded features\n",
        "X = pd.concat([X_encoded_df, X_caption_df, X_hashtags_df], axis=1)\n",
        "\n",
        "# Split the data into training and testing sets\n",
        "X_train, X_test, y_likes_train, y_likes_test, y_time_train, y_time_test = train_test_split(X, y_likes, y_time_since_posted, test_size=0.2, random_state=42)\n",
        "\n",
        "# Create and train the model for predicting the number of likes\n",
        "likes_model = LinearRegression()\n",
        "likes_model.fit(X_train, y_likes_train)\n",
        "\n",
        "# Predict the number of likes on the test set and evaluate the model\n",
        "likes_predictions = likes_model.predict(X_test)\n",
        "mse_likes = mean_squared_error(y_likes_test, likes_predictions)\n",
        "r2_likes = r2_score(y_likes_test, likes_predictions)\n",
        "print(\"Mean Squared Error (Likes):\", mse_likes)\n",
        "print(\"R-squared (Likes):\", r2_likes)\n",
        "\n",
        "# Create and train the model for predicting the time since posted\n",
        "time_model = LinearRegression()\n",
        "time_model.fit(X_train, y_time_train)\n",
        "\n",
        "# Predict the time since posted on the test set and evaluate the model\n",
        "time_predictions = time_model.predict(X_test)\n",
        "mse_time = mean_squared_error(y_time_test, time_predictions)\n",
        "r2_time = r2_score(y_time_test, time_predictions)\n",
        "print(\"Mean Squared Error (Time Since Posted):\", mse_time)\n",
        "print(\"R-squared (Time Since Posted):\", r2_time)"
      ],
      "metadata": {
        "id": "uPxA_dEUOkmX"
      },
      "execution_count": null,
      "outputs": []
    }
  ]
}