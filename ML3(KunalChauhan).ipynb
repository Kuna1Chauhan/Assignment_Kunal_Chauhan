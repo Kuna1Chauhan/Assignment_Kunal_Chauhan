{
  "nbformat": 4,
  "nbformat_minor": 0,
  "metadata": {
    "colab": {
      "provenance": []
    },
    "kernelspec": {
      "name": "python3",
      "display_name": "Python 3"
    },
    "language_info": {
      "name": "python"
    }
  },
  "cells": [
    {
      "cell_type": "code",
      "source": [
        "import pandas as pd\n",
        "from sklearn.feature_extraction.text import TfidfVectorizer\n",
        "from sklearn.metrics.pairwise import cosine_similarity\n",
        "\n",
        "# Load the dataset\n",
        "data = pd.read_json(\"https://raw.githubusercontent.com/Kuna1Chauhan/EDA/main/News_Category_Dataset_v3.json\", lines=True)\n",
        "\n",
        "# Preprocess the data\n",
        "data['text'] = data['headline'] + ' ' + data['short_description']\n",
        "\n",
        "# Vectorize the text data using TF-IDF\n",
        "vectorizer = TfidfVectorizer()\n",
        "tfidf_matrix = vectorizer.fit_transform(data['text'])\n",
        "\n",
        "# Compute the similarity matrix\n",
        "similarity_matrix = cosine_similarity(tfidf_matrix)\n",
        "\n",
        "# Function to find the most similar data to a given data\n",
        "def find_most_similar_data(input_data, top_k=5):\n",
        "    # Vectorize the input data\n",
        "    input_vector = vectorizer.transform([input_data])\n",
        "\n",
        "    # Compute the similarity between the input data and all other data points\n",
        "    similarity_scores = cosine_similarity(input_vector, tfidf_matrix)\n",
        "\n",
        "    # Get the indices of the top-k most similar data points\n",
        "    top_indices = similarity_scores.argsort()[0][-top_k:][::-1]\n",
        "\n",
        "    # Return the most similar data points\n",
        "    return data.iloc[top_indices]\n",
        "\n",
        "# Example usage\n",
        "input_data = \"New study finds link between coffee consumption and improved brain function\"\n",
        "most_similar_data = find_most_similar_data(input_data)\n",
        "print(most_similar_data[['headline', 'short_description']])\n"
      ],
      "metadata": {
        "id": "LXrwOOdXrEbb"
      },
      "execution_count": null,
      "outputs": []
    }
  ]
}