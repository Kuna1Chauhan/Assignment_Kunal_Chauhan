{
  "nbformat": 4,
  "nbformat_minor": 0,
  "metadata": {
    "colab": {
      "provenance": []
    },
    "kernelspec": {
      "name": "python3",
      "display_name": "Python 3"
    },
    "language_info": {
      "name": "python"
    }
  },
  "cells": [
    {
      "cell_type": "code",
      "source": [
        "import pandas as pd\n",
        "from sklearn.ensemble import RandomForestRegressor, RandomForestClassifier\n",
        "from sklearn.model_selection import train_test_split\n",
        "from sklearn.metrics import mean_squared_error, accuracy_score\n",
        "\n",
        "# Load the dataset\n",
        "data = pd.read_csv('https://raw.githubusercontent.com/Kuna1Chauhan/EDA/main/online_shoppers_intention.csv')\n",
        "\n",
        "# Preprocess the data\n",
        "data['Weekend'] = data['Weekend'].astype(int)\n",
        "\n",
        "# Select features and target variables\n",
        "X = data.drop(['Revenue', 'Informational_Duration'], axis=1)\n",
        "y_revenue = data['Revenue']\n",
        "y_weekend = data['Weekend']\n",
        "info_duration = data['Informational_Duration']\n",
        "\n",
        "# Split the data into training and testing sets\n",
        "X_train, X_test, y_revenue_train, y_revenue_test, y_weekend_train, y_weekend_test, info_duration_train, info_duration_test = train_test_split(X, y_revenue, y_weekend, info_duration, test_size=0.2, random_state=42)\n",
        "\n",
        "# Initialize the ensemble models\n",
        "revenue_model = RandomForestRegressor(n_estimators=100, random_state=42)\n",
        "weekend_model = RandomForestClassifier(n_estimators=100, random_state=42)\n",
        "info_duration_model = RandomForestRegressor(n_estimators=100, random_state=42)\n",
        "\n",
        "# Train the models\n",
        "revenue_model.fit(X_train, y_revenue_train)\n",
        "weekend_model.fit(X_train, y_weekend_train)\n",
        "info_duration_model.fit(X_train, info_duration_train)\n",
        "\n",
        "# Make predictions\n",
        "revenue_predictions = revenue_model.predict(X_test)\n",
        "weekend_predictions = weekend_model.predict(X_test)\n",
        "info_duration_predictions = info_duration_model.predict(X_test)\n",
        "\n",
        "# Evaluate the models\n",
        "revenue_rmse = mean_squared_error(y_revenue_test, revenue_predictions, squared=False)\n",
        "weekend_accuracy = accuracy_score(y_weekend_test, weekend_predictions)\n",
        "\n",
        "print(\"Revenue RMSE:\", revenue_rmse)\n",
        "print(\"Weekend Accuracy:\", weekend_accuracy)"
      ],
      "metadata": {
        "id": "J5gWFAPqvQvD"
      },
      "execution_count": null,
      "outputs": []
    }
  ]
}